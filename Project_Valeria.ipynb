{
  "nbformat": 4,
  "nbformat_minor": 0,
  "metadata": {
    "colab": {
      "provenance": [],
      "authorship_tag": "ABX9TyO0Msb6S43HCNTIUVlWzl+v",
      "include_colab_link": true
    },
    "kernelspec": {
      "name": "python3",
      "display_name": "Python 3"
    },
    "language_info": {
      "name": "python"
    }
  },
  "cells": [
    {
      "cell_type": "markdown",
      "metadata": {
        "id": "view-in-github",
        "colab_type": "text"
      },
      "source": [
        "<a href=\"https://colab.research.google.com/github/apparenelle/Proj-Valeria/blob/main/Project_Valeria.ipynb\" target=\"_parent\"><img src=\"https://colab.research.google.com/assets/colab-badge.svg\" alt=\"Open In Colab\"/></a>"
      ]
    },
    {
      "cell_type": "markdown",
      "source": [
        "Project Valeria (Algo Trading Bot)\n",
        "\n",
        "Updates:\n",
        "- i made progress. we can view unusual daily volume for nvda"
      ],
      "metadata": {
        "id": "zN1T9_OvXDkY"
      }
    },
    {
      "cell_type": "markdown",
      "source": [
        "**Libraries**\n",
        "- yfinance - provides stock price history | Open Close High Low Volume Stock_Splits\n",
        "- datetime - standard datetime obj.\n",
        "- numpy - statistical analysis | percentile\n",
        "- math - cleaning numerics | ceil"
      ],
      "metadata": {
        "id": "E6TEJL6dkLKh"
      }
    },
    {
      "cell_type": "code",
      "execution_count": null,
      "metadata": {
        "id": "zsSIbo_FkI9i",
        "colab": {
          "base_uri": "https://localhost:8080/"
        },
        "outputId": "6f9ef550-e1a2-460f-cd20-86ed68b9dac0"
      },
      "outputs": [
        {
          "output_type": "stream",
          "name": "stderr",
          "text": [
            "/usr/local/lib/python3.10/dist-packages/yfinance/base.py:48: FutureWarning: The default dtype for empty Series will be 'object' instead of 'float64' in a future version. Specify a dtype explicitly to silence this warning.\n",
            "  _empty_series = pd.Series()\n"
          ]
        }
      ],
      "source": [
        "import yfinance as yf\n",
        "import datetime\n",
        "import numpy as np\n",
        "import math"
      ]
    },
    {
      "cell_type": "markdown",
      "source": [
        "Apple Stock Info"
      ],
      "metadata": {
        "id": "ISVDuCxc1TyT"
      }
    },
    {
      "cell_type": "markdown",
      "source": [
        "History of AAPL  for the last 2 years || 2 years ago was the last stock split\n",
        "\n",
        "- to allow 30 years of data analysis, adjust all stock data for stock splits"
      ],
      "metadata": {
        "id": "8cvGN0l_sZAs"
      }
    },
    {
      "cell_type": "code",
      "source": [
        "# Find and print all days where volume is higher than 87 million"
      ],
      "metadata": {
        "id": "0P2gUTdeRKkQ"
      },
      "execution_count": null,
      "outputs": []
    },
    {
      "cell_type": "code",
      "source": [
        "def printDaysOfHighVolume_ARR(X, Y, target_percentile):\n",
        "  arr = list()\n",
        "  for x,y in zip(X, Y):\n",
        "    if (y > target_percentile): #replace 115 mil w/ the target above and convert this to a function\n",
        "      print(x, 'Volume:  ' + str(y))\n",
        "      arr.append([x,y])\n",
        "  return arr"
      ],
      "metadata": {
        "id": "YYta23zS5DSF"
      },
      "execution_count": null,
      "outputs": []
    },
    {
      "cell_type": "code",
      "source": [
        "# printDaysOfHighVolume_ARR(aapl_date_vol_df['Date'], aapl_date_vol_df['Volume'], stock_AT_80_percentile)"
      ],
      "metadata": {
        "id": "uvPNQRS8NwKU"
      },
      "execution_count": null,
      "outputs": []
    },
    {
      "cell_type": "markdown",
      "source": [
        "Some months above have continous days of large orders in the same week"
      ],
      "metadata": {
        "id": "Jh_pKcTZXQh1"
      }
    },
    {
      "cell_type": "code",
      "source": [
        "# good for managing stock info\n",
        "class stock_data:\n",
        "  def __init__(self, symbol:str):\n",
        "    self.symbol = symbol\n",
        "    self.stock = yf.Ticker(symbol)\n",
        "    self.info = self.stock.info\n",
        "\n",
        "  def getHistory(self, days):\n",
        "    symbol = self.symbol\n",
        "    stock = self.stock\n",
        "    history = stock.history(period=(str(days)+'d'), interval='1d').reset_index()\n",
        "    self.history = history\n",
        "    return history\n",
        "\n",
        "  def calcVolumePercentilesFromHist(self):\n",
        "    history = self.history\n",
        "\n",
        "    # retrieves 70th, 80th, and 90th, percentile\n",
        "    if history.empty is False:\n",
        "      percentiles = {\n",
        "                      '70': math.ceil(np.percentile(self.history['Volume'], 70)),\n",
        "                      '80': math.ceil(np.percentile(self.history['Volume'], 80)),\n",
        "                      '90': math.ceil(np.percentile(self.history['Volume'], 90))\n",
        "                    }\n",
        "      self.vol_percentiles = percentiles\n",
        "      return percentiles\n",
        "    else:\n",
        "      print('History is empty')\n",
        "      print('Please call getHistory()')\n",
        "      return None\n",
        "\n",
        "  def findLastStockSplitIndex(self):\n",
        "    history = self.history\n",
        "\n",
        "    if not history.empty:\n",
        "      for index, value in history['Stock Splits'][::-1].items():\n",
        "        if value > 0.0:\n",
        "          return index\n",
        "      return 'No stock splits present.'\n",
        "\n",
        "\n",
        "\n",
        "\n",
        "\n",
        "  def removeTime(self):\n",
        "    # removes time from stock history for cleaner code\n",
        "    history = self.history\n",
        "\n",
        "    if history.empty is False:\n",
        "      def dateColtoDateObj(a):\n",
        "        return a.date()\n",
        "\n",
        "      # time mentioned in Date col. is removed;\n",
        "      # self.last_history['Date'] = list(map(dateColtoDateObj, history['Date']))\n",
        "\n",
        "      # or\n",
        "      self.history['Date'] = self.history['Date'].apply(lambda a: a.date())\n",
        "\n",
        "      return self.history\n",
        "    else:\n",
        "      print('History never was saved')\n",
        "      print('Please recover history.')\n",
        "      return None\n",
        "\n"
      ],
      "metadata": {
        "id": "o5ynKxC4GoZG"
      },
      "execution_count": null,
      "outputs": []
    },
    {
      "cell_type": "code",
      "source": [
        "#pre-processing for AI models\n",
        "class data_cleaner:\n",
        "  def __init__(self, data, stock):\n",
        "    self.data = data\n",
        "    self.stock = stock\n",
        "\n",
        "  def display_info(self):\n",
        "    print(self.data)\n",
        "\n",
        "  def clean(self):\n",
        "    dataframe = self.data\n",
        "    stock = self.stock\n",
        "\n",
        "    #all yf data already adjusted for splits\n",
        "    dataframe = dataframe.drop(columns=['Stock Splits', 'Dividends'], axis=1)\n",
        "\n",
        "    # stock percentiles or 'low' make out of 0 - 4\n",
        "    def rankingVolume(a, ranking):\n",
        "      if a <= ranking['70']:\n",
        "        return 0\n",
        "      elif a > ranking['70'] and a <= ranking['80']:\n",
        "        return 1\n",
        "      elif a > ranking['80'] and a <= ranking['90']:\n",
        "        return 2\n",
        "      elif a >= ranking['90']:\n",
        "        return 3\n",
        "      else:\n",
        "        print('Something is off w/ the volume')\n",
        "        return -1\n",
        "\n",
        "    # Adds volume ranking to df\n",
        "    dataframe['Volume_Ranking'] = dataframe['Volume'].apply(lambda x: rankingVolume(x, stock.vol_percentiles))\n",
        "\n",
        "\n",
        "    def priceMovement(row):\n",
        "      low = row['Low']\n",
        "      high = row['High']\n",
        "      open_ = row['Open']  # Renamed to open_ to avoid conflict with Python's open function\n",
        "      close = row['Close']\n",
        "\n",
        "      if close >= open_:\n",
        "        return high - low\n",
        "      else:\n",
        "        return (high - low) * -1\n",
        "\n",
        "    #Price change from open to close\n",
        "    dataframe['Price_Movement'] = dataframe.apply(priceMovement, axis=1)\n",
        "\n",
        "    #add a day column for an iterator called days\n",
        "    dataframe['Day'] = range(1, len(dataframe)+1)\n",
        "\n",
        "\n",
        "    #what is the measure of success?\n",
        "\n",
        "    #saves changes\n",
        "    self.data = dataframe\n",
        "\n",
        "  def reOrder(self):\n",
        "    new_order = ['Date', 'Day', 'Price_Movement', 'Open', 'High', 'Low', 'Close', 'Volume', 'Volume_Ranking', '5-Day_Moving_Avg', '10-Day_Moving_Avg', '20-Day_Moving_Avg']\n",
        "    self.data = self.data[new_order]\n",
        "    return self.data\n",
        "\n",
        "  def toCSV(self, fileName, sep):\n",
        "    data = self.data\n",
        "    data.to_csv(fileName, sep=sep, index=False, encoding='utf-8')\n"
      ],
      "metadata": {
        "id": "HCCEz4aEbt_w"
      },
      "execution_count": null,
      "outputs": []
    },
    {
      "cell_type": "code",
      "source": [
        "def main1():\n",
        "  # relevant_fields = ['Open', 'High', 'Low', 'Close', 'Volume', 'Stock Split']\n",
        "\n",
        "  stock = stock_data('aapl')\n",
        "\n",
        "  stock.getHistory(days=1826)\n",
        "  stock.removeTime()\n",
        "\n",
        "  stock.movingAverages()\n",
        "  stock.calcVolumePercentilesFromHist()\n",
        "\n",
        "  # print(stock.history)\n",
        "  # print(stock.calcVolumePercentilesFromHist())\n",
        "\n",
        "  #cleaner must be used after stock attributes have been configured\n",
        "  cleaner = data_cleaner(stock.history, stock)\n",
        "  cleaner.clean()\n",
        "\n",
        "  cleaner.reOrder()\n",
        "  cleaner.display_info()\n",
        "\n",
        "  cleaner.toCSV(fileName='./stock_data.csv', sep=',')\n",
        "\n",
        "\n",
        "  # Relevant Fields\n",
        "  # ['Date', 'Open', 'High', 'Low', 'Close', 'Volume', 'Dividends', 'Stock Split', 'Volume Ranking', 'Price Movement', '5-Day_Moving_Avg', '10-Day_Moving_Avg', '20-Day_Moving_Avg']\n",
        "\n",
        "  # 70th Percentile         87 million shares a day  --- AAPL\n",
        "  # 80th Percentile         96 million shares a day  --- AAPL\n",
        "  # 90th Percentile         115 million shares a day --- AAPL\n",
        "\n",
        "  # RETURNING processed dataset\n",
        "  return cleaner.data\n"
      ],
      "metadata": {
        "id": "dVBfyIgMj1nD"
      },
      "execution_count": null,
      "outputs": []
    },
    {
      "cell_type": "code",
      "source": [
        "main1()"
      ],
      "metadata": {
        "colab": {
          "base_uri": "https://localhost:8080/",
          "height": 263
        },
        "id": "hGr0Bagz5nI2",
        "outputId": "27d13fe2-c5fc-4f22-bf5f-8d20c22b9f12"
      },
      "execution_count": null,
      "outputs": [
        {
          "output_type": "error",
          "ename": "AttributeError",
          "evalue": "'stock_data' object has no attribute 'movingAverages'",
          "traceback": [
            "\u001b[0;31m---------------------------------------------------------------------------\u001b[0m",
            "\u001b[0;31mAttributeError\u001b[0m                            Traceback (most recent call last)",
            "\u001b[0;32m<ipython-input-8-6657c6365cf0>\u001b[0m in \u001b[0;36m<cell line: 1>\u001b[0;34m()\u001b[0m\n\u001b[0;32m----> 1\u001b[0;31m \u001b[0mmain1\u001b[0m\u001b[0;34m(\u001b[0m\u001b[0;34m)\u001b[0m\u001b[0;34m\u001b[0m\u001b[0;34m\u001b[0m\u001b[0m\n\u001b[0m",
            "\u001b[0;32m<ipython-input-7-308830f2abf1>\u001b[0m in \u001b[0;36mmain1\u001b[0;34m()\u001b[0m\n\u001b[1;32m      7\u001b[0m   \u001b[0mstock\u001b[0m\u001b[0;34m.\u001b[0m\u001b[0mremoveTime\u001b[0m\u001b[0;34m(\u001b[0m\u001b[0;34m)\u001b[0m\u001b[0;34m\u001b[0m\u001b[0;34m\u001b[0m\u001b[0m\n\u001b[1;32m      8\u001b[0m \u001b[0;34m\u001b[0m\u001b[0m\n\u001b[0;32m----> 9\u001b[0;31m   \u001b[0mstock\u001b[0m\u001b[0;34m.\u001b[0m\u001b[0mmovingAverages\u001b[0m\u001b[0;34m(\u001b[0m\u001b[0;34m)\u001b[0m\u001b[0;34m\u001b[0m\u001b[0;34m\u001b[0m\u001b[0m\n\u001b[0m\u001b[1;32m     10\u001b[0m   \u001b[0mstock\u001b[0m\u001b[0;34m.\u001b[0m\u001b[0mcalcVolumePercentilesFromHist\u001b[0m\u001b[0;34m(\u001b[0m\u001b[0;34m)\u001b[0m\u001b[0;34m\u001b[0m\u001b[0;34m\u001b[0m\u001b[0m\n\u001b[1;32m     11\u001b[0m \u001b[0;34m\u001b[0m\u001b[0m\n",
            "\u001b[0;31mAttributeError\u001b[0m: 'stock_data' object has no attribute 'movingAverages'"
          ]
        }
      ]
    },
    {
      "cell_type": "code",
      "source": [
        "def main2():\n",
        "  data = main1()\n",
        "\n"
      ],
      "metadata": {
        "id": "vHtbegfd53UK"
      },
      "execution_count": null,
      "outputs": []
    },
    {
      "cell_type": "markdown",
      "source": [
        "Good News: The data is auto adjusted by yahoo to account for stock splits no work necessary and you can train on as much data as I please!"
      ],
      "metadata": {
        "id": "WMgZiqm3_kV3"
      }
    },
    {
      "cell_type": "markdown",
      "source": [
        "*Tips*\n",
        "```\n",
        "# This is formatted as code\n",
        "# stock = stock_data('aapl')\n",
        "# stock.getHistory(1000)\n",
        "# stock.removeTime()\n",
        "# stock.history\n",
        "# stock.info\n",
        "# stock.calcVolumePercentilesFromHist()\n",
        "\n",
        "\n",
        "# stock.history.iloc[147]\n",
        "# stock.history.loc[147][:]\n",
        "# cleaner = data_cleaner(stock.history, stock)\n",
        "# stock.history.keys()\n",
        "# cleaner.display_info()\n",
        "```"
      ],
      "metadata": {
        "id": "jqsykKjCDfzq"
      }
    }
  ]
}